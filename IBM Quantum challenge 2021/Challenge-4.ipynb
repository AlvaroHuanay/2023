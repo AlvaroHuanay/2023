{
 "cells": [
  {
   "cell_type": "markdown",
   "id": "71f6c912-8ec4-43db-ba30-f084252bf099",
   "metadata": {},
   "source": [
    "#Challenge 4a: Simple knapsack problem with QAOA\n"
   ]
  },
  {
   "cell_type": "markdown",
   "id": "eb283bf1-f8d7-41c1-8e8a-97df4cd90f16",
   "metadata": {},
   "source": [
    "Dynamic Programming Approach"
   ]
  },
  {
   "cell_type": "code",
   "execution_count": 1,
   "id": "b32fca6c-ee0d-41c8-b856-e732036af372",
   "metadata": {
    "tags": []
   },
   "outputs": [],
   "source": [
    "from qiskit_optimization.algorithms import MinimumEigenOptimizer\n",
    "from qiskit import Aer\n",
    "from qiskit.utils import algorithm_globals, QuantumInstance\n",
    "from qiskit.algorithms import QAOA, NumPyMinimumEigensolver\n",
    "import numpy as np"
   ]
  },
  {
   "cell_type": "code",
   "execution_count": 2,
   "id": "2d888d14-8fab-4ebc-b213-08753988ca22",
   "metadata": {
    "tags": []
   },
   "outputs": [],
   "source": [
    "val = [5,6,7,8,9]\n",
    "wt = [4,5,6,7,8]\n",
    "W = 18"
   ]
  },
  {
   "cell_type": "code",
   "execution_count": 3,
   "id": "40667685-c7c5-442c-b404-02afa731f174",
   "metadata": {
    "tags": []
   },
   "outputs": [
    {
     "name": "stdout",
     "output_type": "stream",
     "text": [
      "optimal value: 21\n",
      "\n",
      " index of the chosen items:\n",
      "1 2 3 "
     ]
    }
   ],
   "source": [
    "def dp(W, wt, val, n):\n",
    "    k = [[0 for x in range(W + 1)] for x in range(n + 1)]\n",
    "    for i in range(n + 1):\n",
    "        for w in range(W + 1):\n",
    "            if i == 0 or w == 0:\n",
    "                k[i][w] = 0\n",
    "            elif wt[i-1] <= w:\n",
    "                k[i][w] = max(val[i-1] + k[i-1][w-wt[i-1]], k[i-1][w])\n",
    "            else:\n",
    "                k[i][w] = k[i-1][w]\n",
    "                \n",
    "    picks=[0 for x in range(n)]\n",
    "    volume=W\n",
    "    for i in range(n,-1,-1):\n",
    "        if (k[i][volume]>k[i-1][volume]):\n",
    "            picks[i-1]=1\n",
    "            volume -= wt[i-1]\n",
    "    return k[n][W],picks\n",
    "\n",
    "n = len(val)\n",
    "print(\"optimal value:\", dp(W, wt, val, n)[0])\n",
    "print('\\n index of the chosen items:')\n",
    "for i in range(n): \n",
    "    if dp(W, wt, val, n)[1][i]: \n",
    "        print(i,end=' ')"
   ]
  },
  {
   "cell_type": "markdown",
   "id": "4cc8239f-0a83-47ff-89e5-1bd4e912eec7",
   "metadata": {
    "tags": []
   },
   "source": [
    "QAOA approach"
   ]
  },
  {
   "cell_type": "code",
   "execution_count": 4,
   "id": "9cbbc1a9-5c91-46b7-981a-5babd558d6e7",
   "metadata": {
    "tags": []
   },
   "outputs": [],
   "source": [
    "# import packages necessary for application classes.\n",
    "from qiskit_optimization.applications import Knapsack"
   ]
  },
  {
   "cell_type": "code",
   "execution_count": 5,
   "id": "7f499f80-bdc0-4089-882a-6856cb08019c",
   "metadata": {
    "tags": []
   },
   "outputs": [
    {
     "data": {
      "text/plain": [
       "<QuadraticProgram: maximize 4*x_0 + 5*x_1 + 6*x_2 + 7*x_3 + 8*x_4, 5 variables, 1 constraints, 'Knapsack'>"
      ]
     },
     "execution_count": 5,
     "metadata": {},
     "output_type": "execute_result"
    }
   ],
   "source": [
    "def knapsack_quadratic_program():\n",
    "    # Put values, weights and max_weight parameter for the Knapsack()\n",
    "    \n",
    "    ##############################\n",
    "    # Provide your code here\n",
    "    \n",
    "    prob = Knapsack(values=[4,5,6,7,8], weights=[5,6,7,8,9], max_weight=18)\n",
    "    #\n",
    "    ##############################\n",
    "    \n",
    "    # to_quadratic_program generates a corresponding QuadraticProgram of the instance of the knapsack problem.\n",
    "    kqp = prob.to_quadratic_program()\n",
    "    return prob, kqp\n",
    "\n",
    "prob,quadratic_program=knapsack_quadratic_program()\n",
    "quadratic_program"
   ]
  },
  {
   "cell_type": "code",
   "execution_count": 6,
   "id": "c0842f51-6d7c-4c44-bc98-391c8efae72e",
   "metadata": {
    "tags": []
   },
   "outputs": [
    {
     "name": "stdout",
     "output_type": "stream",
     "text": [
      "result:\n",
      " fval=15.0, x_0=0.0, x_1=0.0, x_2=0.0, x_3=1.0, x_4=1.0, status=SUCCESS\n",
      "\n",
      " index of the chosen items: [3, 4]\n"
     ]
    }
   ],
   "source": [
    "# Numpy Eigensolver\n",
    "meo = MinimumEigenOptimizer(min_eigen_solver=NumPyMinimumEigensolver())\n",
    "result = meo.solve(quadratic_program)\n",
    "print('result:\\n', result)\n",
    "print('\\n index of the chosen items:', prob.interpret(result)) "
   ]
  },
  {
   "cell_type": "code",
   "execution_count": 7,
   "id": "f8444379-6671-45d3-b9fc-a9eeb19d9424",
   "metadata": {
    "tags": []
   },
   "outputs": [
    {
     "name": "stdout",
     "output_type": "stream",
     "text": [
      "result:\n",
      " fval=15.0, x_0=0.0, x_1=0.0, x_2=0.0, x_3=1.0, x_4=1.0, status=SUCCESS\n",
      "\n",
      " index of the chosen items: [3, 4]\n"
     ]
    }
   ],
   "source": [
    "# QAOA\n",
    "seed = 123\n",
    "algorithm_globals.random_seed = seed\n",
    "qins = QuantumInstance(backend=Aer.get_backend('qasm_simulator'), shots=1000, seed_simulator=seed, seed_transpiler=seed)\n",
    "\n",
    "meo = MinimumEigenOptimizer(min_eigen_solver=QAOA(reps=1, quantum_instance=qins))\n",
    "result = meo.solve(quadratic_program)\n",
    "print('result:\\n', result)\n",
    "print('\\n index of the chosen items:', prob.interpret(result)) "
   ]
  },
  {
   "cell_type": "markdown",
   "id": "7ebc5169-bb18-484a-ad59-c69c2dbfd13d",
   "metadata": {},
   "source": [
    "Battery Revenue Optimization Problem"
   ]
  },
  {
   "cell_type": "markdown",
   "id": "e383b2be-ba35-40fa-bf56-3d9f143625e1",
   "metadata": {},
   "source": [
    "#Challenge 4b: Battery revenue optimization with Qiskit knapsack class"
   ]
  },
  {
   "cell_type": "code",
   "execution_count": 8,
   "id": "7a5ea7d7-96d8-4954-b9af-eb822c310434",
   "metadata": {
    "tags": []
   },
   "outputs": [],
   "source": [
    "L1 = [5,3,3,6,9,7,1]\n",
    "L2 = [8,4,5,12,10,11,2]\n",
    "C1 = [1,1,2,1,1,1,2]\n",
    "C2 = [3,2,3,2,4,3,3]\n",
    "C_max = 16"
   ]
  },
  {
   "cell_type": "code",
   "execution_count": 9,
   "id": "8f53631f-34a3-4c2a-ae70-3a4f08c3ccb5",
   "metadata": {
    "tags": []
   },
   "outputs": [],
   "source": [
    "values=[]\n",
    "weights=[]\n",
    "for i in range(len(L1)):\n",
    "    values.append(L2[i]-L1[i])\n",
    "for i in range(len(C1)):\n",
    "    weights.append(C2[i]-C1[i])\n",
    "max_weight=C_max-sum(C1)"
   ]
  },
  {
   "cell_type": "code",
   "execution_count": 10,
   "id": "1896c2c1-3485-4f8e-b87f-43f4654fccf2",
   "metadata": {
    "tags": []
   },
   "outputs": [
    {
     "name": "stdout",
     "output_type": "stream",
     "text": [
      "[3, 1, 2, 6, 1, 4, 1] [2, 1, 1, 1, 3, 2, 1] 7\n"
     ]
    },
    {
     "data": {
      "text/plain": [
       "<QuadraticProgram: maximize 3*x_0 + x_1 + 2*x_2 + 6*x_3 + x_4 + 4*x_5 + x_6, 7 variables, 1 constraints, 'Knapsack'>"
      ]
     },
     "execution_count": 10,
     "metadata": {},
     "output_type": "execute_result"
    }
   ],
   "source": [
    "def knapsack_argument(L1, L2, C1, C2, C_max):\n",
    "      \n",
    "    ##############################\n",
    "    # Provide your code here\n",
    "    values=[]\n",
    "    weights=[]\n",
    "    for i in range(len(L1)):\n",
    "        values.append(L2[i]-L1[i])\n",
    "    for i in range(len(C1)):\n",
    "        weights.append(C2[i]-C1[i])\n",
    "    max_weight=C_max-sum(C1)\n",
    "    #\n",
    "    ##############################\n",
    "    return values, weights, max_weight\n",
    "    \n",
    "values, weights, max_weight = knapsack_argument(L1, L2, C1, C2, C_max)\n",
    "print(values, weights, max_weight)\n",
    "prob = Knapsack(values = values, weights = weights, max_weight = max_weight)\n",
    "qp = prob.to_quadratic_program()\n",
    "qp"
   ]
  },
  {
   "cell_type": "code",
   "execution_count": 11,
   "id": "5c766034-b08d-4db8-adb8-36fa8d2bdbf1",
   "metadata": {
    "tags": []
   },
   "outputs": [
    {
     "name": "stdout",
     "output_type": "stream",
     "text": [
      "result: [1. 1. 1. 1. 0. 1. 0.]\n",
      "total revenue: 50\n"
     ]
    }
   ],
   "source": [
    "# QAOA\n",
    "seed = 123\n",
    "algorithm_globals.random_seed = seed\n",
    "qins = QuantumInstance(backend=Aer.get_backend('qasm_simulator'), shots=1000, seed_simulator=seed, seed_transpiler=seed)\n",
    "\n",
    "meo = MinimumEigenOptimizer(min_eigen_solver=QAOA(reps=1, quantum_instance=qins))\n",
    "result = meo.solve(qp)\n",
    "print('result:', result.x)\n",
    "\n",
    "item = np.array(result.x)\n",
    "revenue=0\n",
    "for i in range(len(item)):\n",
    "    if item[i]==0:\n",
    "        revenue+=L1[i]\n",
    "    else:\n",
    "        revenue+=L2[i]\n",
    "\n",
    "print('total revenue:', revenue)"
   ]
  },
  {
   "cell_type": "markdown",
   "id": "6a747c16-bc47-4a8f-a7c3-3f061b9f7943",
   "metadata": {},
   "source": [
    "#Challenge 4c: Battery revenue optimization with adiabatic quantum computation"
   ]
  },
  {
   "cell_type": "code",
   "execution_count": null,
   "id": "5a84e40a-79d7-4925-8c1e-3bb9a2a24909",
   "metadata": {},
   "outputs": [],
   "source": []
  }
 ],
 "metadata": {
  "kernelspec": {
   "display_name": "Python 3 (ipykernel)",
   "language": "python",
   "name": "python3"
  },
  "language_info": {
   "codemirror_mode": {
    "name": "ipython",
    "version": 3
   },
   "file_extension": ".py",
   "mimetype": "text/x-python",
   "name": "python",
   "nbconvert_exporter": "python",
   "pygments_lexer": "ipython3",
   "version": "3.10.8"
  },
  "widgets": {
   "application/vnd.jupyter.widget-state+json": {
    "state": {},
    "version_major": 2,
    "version_minor": 0
   }
  }
 },
 "nbformat": 4,
 "nbformat_minor": 5
}
