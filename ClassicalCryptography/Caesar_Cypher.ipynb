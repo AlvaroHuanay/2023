{
  "nbformat": 4,
  "nbformat_minor": 0,
  "metadata": {
    "colab": {
      "provenance": []
    },
    "kernelspec": {
      "name": "python3",
      "display_name": "Python 3"
    },
    "language_info": {
      "name": "python"
    }
  },
  "cells": [
    {
      "cell_type": "code",
      "source": [
        "def caesar_cypher(text, displacement):\n",
        "\n",
        "  \"\"\"\n",
        "  Explanation shifting computation new_ascii:\n",
        "\n",
        "  ord(\"a\"): serves as a reference point for the character shift operation\n",
        "  ascii_val - ord(\"a\") + displacement: gives the relative position of the input lowercase letter\n",
        "  %26: 26 letters in english alphabet. Its remainder is taken, this ensures that the resulting value stays in the lowercase letters range\n",
        "  + ord(\"a\"): The result is added to the value of \"a\" to obtain the ACII value of the shifted lowercase letter.\n",
        "\n",
        "  The same is applied for capital letters.\n",
        "  \"\"\"\n",
        "\n",
        "\n",
        "  new_text = \"\"\n",
        "  for char in text:\n",
        "    # Check each character in the sentence\n",
        "      if char.isalpha():\n",
        "\n",
        "        # Check if a string consists only of alphabetical characters or not (numbers or whitespaces etc)\n",
        "\n",
        "          ascii_val = ord(char) #Obtain the equivalent ascii value\n",
        "          if char.islower():\n",
        "              new_ascii = ((ascii_val - ord('a') + displacement) % 26) + ord('a')\n",
        "          else:\n",
        "              new_ascii = ((ascii_val - ord('A') + displacement) % 26) + ord('A')\n",
        "\n",
        "          new_char = chr(new_ascii) # Convert ascii value into its corresponding character\n",
        "          new_text += new_char\n",
        "      else:\n",
        "          new_text += char\n",
        "  return new_text"
      ],
      "metadata": {
        "id": "vlVGj4_zhFSH"
      },
      "execution_count": 14,
      "outputs": []
    },
    {
      "cell_type": "code",
      "source": [
        "plaintext=input(\"Introduce sentence to encrypt: \")\n",
        "displacement=int(input(\"How many displacements do you want the caesar cypher have? \"))\n",
        "encrypted_message=caesar_cypher(plaintext, displacement)"
      ],
      "metadata": {
        "colab": {
          "base_uri": "https://localhost:8080/"
        },
        "id": "-yVDGuiihiYy",
        "outputId": "083c28f6-685d-4730-e127-e9a8da9bed9f"
      },
      "execution_count": 17,
      "outputs": [
        {
          "name": "stdout",
          "output_type": "stream",
          "text": [
            "Introduce sentence to encrypt: This is my first caesar cypher\n",
            "How many displacements do you want the caesar cypher have? 10\n"
          ]
        }
      ]
    },
    {
      "cell_type": "code",
      "source": [
        "print(\"The encrypted message is: \\n\", encrypted_message)"
      ],
      "metadata": {
        "colab": {
          "base_uri": "https://localhost:8080/"
        },
        "id": "jUjFVkSNi2Xz",
        "outputId": "4b4bf975-f8a9-419f-b916-a2a1fa9d2a08"
      },
      "execution_count": 18,
      "outputs": [
        {
          "output_type": "stream",
          "name": "stdout",
          "text": [
            "The encrypted message is: \n",
            " Drsc sc wi psbcd mkockb mizrob\n"
          ]
        }
      ]
    }
  ]
}